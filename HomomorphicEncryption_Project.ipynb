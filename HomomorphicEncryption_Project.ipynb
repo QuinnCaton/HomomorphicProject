{
 "cells": [
  {
   "cell_type": "code",
   "execution_count": 114,
   "metadata": {},
   "outputs": [],
   "source": [
    "import random\n",
    "import csv\n",
    "import pandas as pd\n",
    "import tenseal as ts\n",
    "import numpy as np\n",
    "import ast\n",
    "\n",
    "\"\"\"\n",
    "Library used for encryption:\n",
    "https://github.com/OpenMined/TenSEAL\n",
    "Visit for installation instructions\n",
    "\"\"\""
   ]
  },
  {
   "cell_type": "code",
   "execution_count": 108,
   "metadata": {},
   "outputs": [],
   "source": [
    "def generate_minutiae(num_fingerprints, num_minutiae_per_fingerprint):\n",
    "    dataset = []\n",
    "    for i in range(num_fingerprints):\n",
    "        fingerprint = []\n",
    "        fingerprint_id = i+1\n",
    "        for _ in range(num_minutiae_per_fingerprint):\n",
    "            x = random.randint(0, 500) # x coord\n",
    "            y = random.randint(0, 500) # y coord\n",
    "            angle = random.randint(0, 360) # angle of minutiae\n",
    "            minutiae_type = random.randint(0, 1) #0 for ridge, 1 for bif\n",
    "            fingerprint.append((fingerprint_id, x, y, angle, minutiae_type)) # add to individual fingerprint data\n",
    "        dataset.append(fingerprint)\n",
    "    return dataset\n",
    "\n",
    "def save_to_csv(dataset, filename):\n",
    "    with open(filename, 'w', newline='') as file:\n",
    "        writer = csv.writer(file)\n",
    "        writer.writerow(['ID', 'X', 'Y', 'Orientation', 'Type'])\n",
    "        for fingerprint in dataset:\n",
    "            for minutiae in fingerprint:\n",
    "                writer.writerow(minutiae)\n",
    "\n",
    "def encrypt_fingerprint_data(df, context):\n",
    "    encrypted_minutiae_dict = {}\n",
    "    for fingerprint_id in df['ID'].unique():\n",
    "        fingerprint_minutiae = df[df['ID'] == fingerprint_id][['X', 'Y', 'Orientation', 'Type']].values.flatten().tolist()\n",
    "        scaled_minutiae = [float(value) for value in fingerprint_minutiae]\n",
    "        encrypted_minutiae = ts.ckks_vector(context, scaled_minutiae)\n",
    "        encrypted_minutiae_dict[fingerprint_id]=encrypted_minutiae\n",
    "    return encrypted_minutiae_dict\n",
    "\n",
    "def find_matching_fingerprint_id(encrypted_query, encrypted_data, context):\n",
    "    min_distance = float('inf')\n",
    "    matching_id = None\n",
    "\n",
    "    for fingerprint_id, encrypted_minutiae in encrypted_data.items():\n",
    "        difference_vector = encrypted_query - encrypted_minutiae\n",
    "        distance_squared = difference_vector.dot(difference_vector)\n",
    "\n",
    "        distance_squared_decrypted = distance_squared.decrypt()\n",
    "        distance = np.sqrt(distance_squared_decrypted)\n",
    "\n",
    "        if distance < min_distance:\n",
    "            min_distance = distance\n",
    "            matching_id = fingerprint_id\n",
    "\n",
    "    return matching_id\n",
    "\n",
    "def normalize_and_scale_minutiae(df):\n",
    "    # Example normalization - adjust based on your data's characteristics\n",
    "    df['locX'] = (df['locX'] / df['locX'].max())\n",
    "    df['locY'] = (df['locY'] / df['locY'].max())\n",
    "    #df['Orientation'] = df['Orientation'] / 360\n",
    "    # No change for 'Type' as it's categorical (0 or 1)\n",
    "    return df"
   ]
  },
  {
   "cell_type": "markdown",
   "metadata": {},
   "source": [
    "#### Generate Random Dataset of Fingerprint minutiae"
   ]
  },
  {
   "cell_type": "code",
   "execution_count": 115,
   "metadata": {},
   "outputs": [
    {
     "name": "stdout",
     "output_type": "stream",
     "text": [
      "      ID  Type  LocationX  LocationY          Orientation\n",
      "0      0     0         85        238             [-180.0]\n",
      "1      0     0         87        273               [-0.0]\n",
      "2      0     0         96        255               [-0.0]\n",
      "3      0     0        103        293   [153.434948822922]\n",
      "4      0     0        112        196  [-153.434948822922]\n",
      "...   ..   ...        ...        ...                  ...\n",
      "1395   6     1         -1         -1                  NaN\n",
      "1396   6     1         -1         -1                  NaN\n",
      "1397   6     1         -1         -1                  NaN\n",
      "1398   6     1         -1         -1                  NaN\n",
      "1399   6     1         -1         -1                  NaN\n",
      "\n",
      "[1400 rows x 5 columns]\n"
     ]
    }
   ],
   "source": [
    "df = pd.read_csv('fingerprint_test.csv')\n",
    "df\n",
    "\n",
    "print(df)"
   ]
  },
  {
   "cell_type": "markdown",
   "metadata": {},
   "source": [
    "#### Setup TenSEAL context"
   ]
  },
  {
   "cell_type": "code",
   "execution_count": 182,
   "metadata": {},
   "outputs": [],
   "source": [
    "context = ts.context(\n",
    "    ts.SCHEME_TYPE.CKKS,\n",
    "    poly_modulus_degree=16384*2,\n",
    "    coeff_mod_bit_sizes=[60, 40, 40, 40, 60]\n",
    ")\n",
    "\n",
    "context.global_scale = 2**40\n",
    "context.generate_galois_keys()\n",
    "context.generate_relin_keys()\n",
    "secret_key = context.secret_key()"
   ]
  },
  {
   "cell_type": "code",
   "execution_count": 194,
   "metadata": {},
   "outputs": [
    {
     "name": "stdout",
     "output_type": "stream",
     "text": [
      "Vector size:  800\n",
      "Vector size:  800\n"
     ]
    }
   ],
   "source": [
    "fingerprint_id = 0\n",
    "fingerprint_minutiae = df[df['ID'] == fingerprint_id][['LocationX', 'LocationY', 'Orientation', 'Type']].values.flatten().tolist()\n",
    "print(\"Vector size: \", len(fingerprint_minutiae))\n",
    "fingerprint_id = 0\n",
    "fingerprint_minutiae2 = df[df['ID'] == fingerprint_id][['LocationX', 'LocationY', 'Orientation', 'Type']].values.flatten().tolist()\n",
    "print(\"Vector size: \", len(fingerprint_minutiae2))"
   ]
  },
  {
   "cell_type": "code",
   "execution_count": 195,
   "metadata": {},
   "outputs": [
    {
     "name": "stdout",
     "output_type": "stream",
     "text": [
      "<class 'list'>\n",
      "List size:  1000\n"
     ]
    }
   ],
   "source": [
    "scaled_minutiae = []\n",
    "\n",
    "for value in fingerprint_minutiae:\n",
    "    try:\n",
    "        # Attempt to convert directly to float\n",
    "        converted_value = float(value)\n",
    "        if np.isnan(converted_value):\n",
    "            converted_value = 0  # Replace NaN with 0 or another appropriate value\n",
    "        scaled_minutiae.append(converted_value)\n",
    "    except ValueError:\n",
    "        # If direct conversion fails, try evaluating as a list and then convert each element\n",
    "        try:\n",
    "            list_values = ast.literal_eval(value)\n",
    "            if isinstance(list_values, list):\n",
    "                scaled_list_values = [float(v) if not np.isnan(float(v)) else 0 for v in list_values]  # Replace NaN within the list\n",
    "                scaled_minutiae.extend(scaled_list_values)\n",
    "            else:\n",
    "                raise ValueError\n",
    "        except ValueError:\n",
    "            # If conversion still fails, handle or report the erroneous value\n",
    "            print(f\"Could not convert value: {value}\")\n",
    "\n",
    "val = 0\n",
    "target_length = 1000\n",
    "\n",
    "while len(scaled_minutiae) < target_length:\n",
    "    scaled_minutiae.append(val)\n",
    "print(type(scaled_minutiae))\n",
    "print(\"List size: \", len(scaled_minutiae))\n",
    "arr1 = np.array(scaled_minutiae)"
   ]
  },
  {
   "cell_type": "code",
   "execution_count": 196,
   "metadata": {},
   "outputs": [
    {
     "name": "stdout",
     "output_type": "stream",
     "text": [
      "<class 'list'>\n",
      "List size:  1000\n"
     ]
    }
   ],
   "source": [
    "scaled_minutiae2 = []\n",
    "\n",
    "for value in fingerprint_minutiae2:\n",
    "    try:\n",
    "        # Attempt to convert directly to float\n",
    "        converted_value = float(value)\n",
    "        if np.isnan(converted_value):\n",
    "            converted_value = 0  # Replace NaN with 0 or another appropriate value\n",
    "        scaled_minutiae2.append(converted_value)\n",
    "    except ValueError:\n",
    "        # If direct conversion fails, try evaluating as a list and then convert each element\n",
    "        try:\n",
    "            list_values = ast.literal_eval(value)\n",
    "            if isinstance(list_values, list):\n",
    "                scaled_list_values = [float(v) if not np.isnan(float(v)) else 0 for v in list_values]  # Replace NaN within the list\n",
    "                scaled_minutiae2.extend(scaled_list_values)\n",
    "            else:\n",
    "                raise ValueError\n",
    "        except ValueError:\n",
    "            # If conversion still fails, handle or report the erroneous value\n",
    "            print(f\"Could not convert value: {value}\")\n",
    "\n",
    "val = 0\n",
    "target_length = 1000\n",
    "\n",
    "while len(scaled_minutiae2) < target_length:\n",
    "    scaled_minutiae2.append(val)\n",
    "print(type(scaled_minutiae2))\n",
    "print(\"List size: \", len(scaled_minutiae2))\n",
    "arr2 = np.array(scaled_minutiae2)"
   ]
  },
  {
   "cell_type": "code",
   "execution_count": 197,
   "metadata": {},
   "outputs": [
    {
     "name": "stdout",
     "output_type": "stream",
     "text": [
      "0.0\n"
     ]
    }
   ],
   "source": [
    "#arr1 = [1,2,3,4,5]\n",
    "#arr2 = [6,7,8,9,10]\n",
    "distance_squared = (arr1-arr2).dot(arr1-arr2) # dot product distance between two encrypted datapoints\n",
    "print(distance_squared)\n",
    "enc1 = ts.ckks_vector(context, arr1)\n",
    "enc2 = ts.ckks_vector(context, arr2)\n"
   ]
  },
  {
   "cell_type": "code",
   "execution_count": 198,
   "metadata": {},
   "outputs": [
    {
     "name": "stdout",
     "output_type": "stream",
     "text": [
      "Squared Euclidean distance (decrypted for demo): [-3.52195903557116e-05]\n"
     ]
    }
   ],
   "source": [
    "\n",
    "\n",
    "distance_squared = (enc1-enc2).dot(enc1-enc2) # dot product distance between two encrypted datapoints\n",
    "distance_squared_decrypted = distance_squared.decrypt() # decrypt distance to test similarity (should be large value -> fail)\n",
    "\n",
    "\"\"\"\n",
    "distance_squared2 = (encrypted_minutiae-encrypted_minutiae3).dot(encrypted_minutiae-encrypted_minutiae3) # same as above\n",
    "distance_squared_decrypted2 = distance_squared2.decrypt() # decrypt distance (should be very small value -> success)\n",
    "\"\"\"\n",
    "print(\"Squared Euclidean distance (decrypted for demo):\", distance_squared_decrypted)\n",
    "#print(distance_squared_decrypted2)"
   ]
  },
  {
   "cell_type": "markdown",
   "metadata": {},
   "source": [
    "#### test single print data against entire encrypted data and return ID (doesn't work 100% correctly yet)"
   ]
  },
  {
   "cell_type": "code",
   "execution_count": 114,
   "metadata": {},
   "outputs": [
    {
     "name": "stderr",
     "output_type": "stream",
     "text": [
      "C:\\Users\\quinn\\AppData\\Local\\Temp\\ipykernel_26180\\3742005205.py:41: RuntimeWarning: invalid value encountered in sqrt\n",
      "  distance = np.sqrt(distance_squared_decrypted)\n"
     ]
    },
    {
     "name": "stdout",
     "output_type": "stream",
     "text": [
      "3\n"
     ]
    }
   ],
   "source": [
    "id_match = find_matching_fingerprint_id(encrypted_minutiae, encrypted_data, context)\n",
    "print(id_match)"
   ]
  }
 ],
 "metadata": {
  "kernelspec": {
   "display_name": "Python 3",
   "language": "python",
   "name": "python3"
  },
  "language_info": {
   "codemirror_mode": {
    "name": "ipython",
    "version": 3
   },
   "file_extension": ".py",
   "mimetype": "text/x-python",
   "name": "python",
   "nbconvert_exporter": "python",
   "pygments_lexer": "ipython3",
   "version": "3.8.18"
  }
 },
 "nbformat": 4,
 "nbformat_minor": 2
}
