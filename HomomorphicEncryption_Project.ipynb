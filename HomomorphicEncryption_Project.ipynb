{
 "cells": [
  {
   "cell_type": "code",
   "execution_count": 95,
   "metadata": {},
   "outputs": [],
   "source": [
    "import random\n",
    "import csv\n",
    "import pandas as pd\n",
    "import tenseal as ts\n",
    "import numpy as np"
   ]
  },
  {
   "cell_type": "code",
   "execution_count": 105,
   "metadata": {},
   "outputs": [],
   "source": [
    "def generate_minutiae(num_fingerprints, num_minutiae_per_fingerprint):\n",
    "    dataset = []\n",
    "    for i in range(num_fingerprints):\n",
    "        fingerprint = []\n",
    "        fingerprint_id = i+1\n",
    "        for _ in range(num_minutiae_per_fingerprint):\n",
    "            x = random.randint(0, 500) # x coord\n",
    "            y = random.randint(0, 500) # y coord\n",
    "            angle = random.randint(0, 360) # angle of minutiae\n",
    "            minutiae_type = random.randint(0, 1) #0 for ridge, 1 for bif\n",
    "            fingerprint.append((fingerprint_id, x, y, angle, minutiae_type)) # add to individual fingerprint data\n",
    "        dataset.append(fingerprint)\n",
    "    return dataset\n",
    "\n",
    "def save_to_csv(dataset, filename):\n",
    "    with open(filename, 'w', newline='') as file:\n",
    "        writer = csv.writer(file)\n",
    "        writer.writerow(['ID', 'X', 'Y', 'Angle', 'Type'])\n",
    "        for fingerprint in dataset:\n",
    "            for minutiae in fingerprint:\n",
    "                writer.writerow(minutiae)\n",
    "\n",
    "def encrypt_fingerprint_data(df, context):\n",
    "    encrypted_minutiae_dict = {}\n",
    "    for fingerprint_id in df['ID'].unique():\n",
    "        fingerprint_minutiae = df[df['ID'] == fingerprint_id][['X', 'Y', 'Angle', 'Type']].values.flatten().tolist()\n",
    "        scaled_minutiae = [float(value) for value in fingerprint_minutiae]\n",
    "        encrypted_minutiae = ts.ckks_vector(context, scaled_minutiae)\n",
    "        encrypted_minutiae_dict[fingerprint_id]=encrypted_minutiae\n",
    "    return encrypted_minutiae_dict\n",
    "\n",
    "def find_matching_fingerprint_id(encrypted_query, encrypted_data, context):\n",
    "    min_distance = float('inf')\n",
    "    matching_id = None\n",
    "\n",
    "    for fingerprint_id, encrypted_minutiae in encrypted_data.items():\n",
    "        difference_vector = encrypted_query - encrypted_minutiae\n",
    "        distance_squared = difference_vector.dot(difference_vector)\n",
    "\n",
    "        distance_squared_decrypted = distance_squared.decrypt()\n",
    "        distance = np.sqrt(distance_squared_decrypted)\n",
    "\n",
    "        if distance < min_distance:\n",
    "            min_distance = distance\n",
    "            matching_id = fingerprint_id\n",
    "\n",
    "    return matching_id\n",
    "\n",
    "def normalize_and_scale_minutiae(df):\n",
    "    # Example normalization - adjust based on your data's characteristics\n",
    "    df['X'] = df['X'] / df['X'].max()\n",
    "    df['Y'] = df['Y'] / df['Y'].max()\n",
    "    df['Angle'] = df['Angle'] / 360\n",
    "    # No change for 'Type' as it's categorical (0 or 1)\n",
    "    return df"
   ]
  },
  {
   "cell_type": "markdown",
   "metadata": {},
   "source": [
    "#### Generate Random Dataset of Fingerprint minutiae"
   ]
  },
  {
   "cell_type": "code",
   "execution_count": 107,
   "metadata": {},
   "outputs": [],
   "source": [
    "dataset = generate_minutiae(10, 20) # num fingerprints, minutiae per print\n",
    "save_to_csv(dataset, 'fingerprint_test.csv')\n",
    "df = pd.read_csv('fingerprint_test.csv')\n",
    "df_normalized = normalize_and_scale_minutiae(df)\n",
    "df_normalized"
   ]
  },
  {
   "cell_type": "markdown",
   "metadata": {},
   "source": [
    "#### Setup TenSEAL context"
   ]
  },
  {
   "cell_type": "code",
   "execution_count": 109,
   "metadata": {},
   "outputs": [],
   "source": [
    "context = ts.context(\n",
    "    ts.SCHEME_TYPE.CKKS,\n",
    "    poly_modulus_degree=16384,\n",
    "    coeff_mod_bit_sizes=[60, 40, 40, 40, 60]\n",
    ")\n",
    "\n",
    "context.global_scale = 2**40\n",
    "context.generate_galois_keys()\n",
    "context.generate_relin_keys()\n",
    "secret_key = context.secret_key()"
   ]
  },
  {
   "cell_type": "markdown",
   "metadata": {},
   "source": [
    "#### Single print encryption for comparison testing"
   ]
  },
  {
   "cell_type": "code",
   "execution_count": null,
   "metadata": {},
   "outputs": [],
   "source": [
    "\n",
    "fingerprint_id = 1\n",
    "fingerprint_minutiae = df[df['ID']==fingerprint_id][['X', 'Y', 'Angle', 'Type']].values.flatten().tolist()\n",
    "scaled_minutiae = [float(value) for value in fingerprint_minutiae]\n",
    "\n",
    "fingerprint_id = 2\n",
    "fingerprint_minutiae2 = df[df['ID']==fingerprint_id][['X', 'Y', 'Angle', 'Type']].values.flatten().tolist()\n",
    "scaled_minutiae2 = [float(value) for value in fingerprint_minutiae2]"
   ]
  },
  {
   "cell_type": "code",
   "execution_count": 110,
   "metadata": {},
   "outputs": [],
   "source": [
    "encrypted_minutiae = ts.ckks_vector(context, scaled_minutiae)\n",
    "encrypted_minutiae2 = ts.ckks_vector(context, scaled_minutiae2)\n",
    "encrypted_minutiae3 = ts.ckks_vector(context, scaled_minutiae)"
   ]
  },
  {
   "cell_type": "markdown",
   "metadata": {},
   "source": [
    "#### encrypt entire normalized dataset"
   ]
  },
  {
   "cell_type": "code",
   "execution_count": 111,
   "metadata": {},
   "outputs": [],
   "source": [
    "encrypted_data = encrypt_fingerprint_data(df_normalized, context)"
   ]
  },
  {
   "cell_type": "code",
   "execution_count": 102,
   "metadata": {},
   "outputs": [
    {
     "name": "stdout",
     "output_type": "stream",
     "text": [
      "Squared Euclidean distance (decrypted for demo): [2147889.2880517947]\n",
      "[-8.373405442525354e-07]\n"
     ]
    }
   ],
   "source": [
    "distance_squared = (encrypted_minutiae-encrypted_minutiae2).dot(encrypted_minutiae-encrypted_minutiae2) # dot product distance between two encrypted datapoints\n",
    "distance_squared_decrypted = distance_squared.decrypt() # decrypt distance to test similarity (should be large value -> fail)\n",
    "\n",
    "distance_squared2 = (encrypted_minutiae-encrypted_minutiae3).dot(encrypted_minutiae-encrypted_minutiae3) # same as above\n",
    "distance_squared_decrypted2 = distance_squared2.decrypt() # decrypt distance (should be very small value -> success)\n",
    "\n",
    "print(\"Squared Euclidean distance (decrypted for demo):\", distance_squared_decrypted)\n",
    "print(distance_squared_decrypted2)"
   ]
  },
  {
   "cell_type": "markdown",
   "metadata": {},
   "source": [
    "#### test single print data against entire encrypted data and return ID (doesn't work 100% correctly yet)"
   ]
  },
  {
   "cell_type": "code",
   "execution_count": 114,
   "metadata": {},
   "outputs": [
    {
     "name": "stderr",
     "output_type": "stream",
     "text": [
      "C:\\Users\\quinn\\AppData\\Local\\Temp\\ipykernel_26180\\3742005205.py:41: RuntimeWarning: invalid value encountered in sqrt\n",
      "  distance = np.sqrt(distance_squared_decrypted)\n"
     ]
    },
    {
     "name": "stdout",
     "output_type": "stream",
     "text": [
      "3\n"
     ]
    }
   ],
   "source": [
    "id_match = find_matching_fingerprint_id(encrypted_minutiae, encrypted_data, context)\n",
    "print(id_match)"
   ]
  }
 ],
 "metadata": {
  "kernelspec": {
   "display_name": "Python 3",
   "language": "python",
   "name": "python3"
  },
  "language_info": {
   "codemirror_mode": {
    "name": "ipython",
    "version": 3
   },
   "file_extension": ".py",
   "mimetype": "text/x-python",
   "name": "python",
   "nbconvert_exporter": "python",
   "pygments_lexer": "ipython3",
   "version": "3.8.18"
  }
 },
 "nbformat": 4,
 "nbformat_minor": 2
}
