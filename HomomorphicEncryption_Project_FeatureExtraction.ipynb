{
 "cells": [
  {
   "cell_type": "markdown",
   "metadata": {},
   "source": [
    "#### Libraries Used"
   ]
  },
  {
   "cell_type": "code",
   "execution_count": 1,
   "metadata": {},
   "outputs": [
    {
     "data": {
      "text/plain": [
       "\"\\nhttps://github.com/Utkarsh-Deshmukh/Fingerprint-Feature-Extraction\\ninstall with 'pip install fingerprint-feature-extractor'\\n\\nhttps://github.com/Utkarsh-Deshmukh/Fingerprint-Enhancement-Python\\ninstall with 'pip install fingerprint_enhancer'\\n\""
      ]
     },
     "execution_count": 1,
     "metadata": {},
     "output_type": "execute_result"
    }
   ],
   "source": [
    "import fingerprint_feature_extractor\n",
    "import fingerprint_enhancer\n",
    "import cv2\n",
    "import os\n",
    "import csv\n",
    "\n",
    "\"\"\"\n",
    "https://github.com/Utkarsh-Deshmukh/Fingerprint-Feature-Extraction\n",
    "install with 'pip install fingerprint-feature-extractor'\n",
    "\n",
    "https://github.com/Utkarsh-Deshmukh/Fingerprint-Enhancement-Python\n",
    "install with 'pip install fingerprint_enhancer'\n",
    "\"\"\""
   ]
  },
  {
   "cell_type": "markdown",
   "metadata": {},
   "source": [
    "#### Function Definitions"
   ]
  },
  {
   "cell_type": "code",
   "execution_count": 2,
   "metadata": {},
   "outputs": [],
   "source": [
    "def pad_or_truncate_minutiae_list(minutiaeList, targetLength):\n",
    "    # Define dummy minutiae with impossible coordinates and orientation as placeholder\n",
    "    dummy_minutiae = fingerprint_feature_extractor.MinutiaeFeature(-1, -1, float('nan'), 'Dummy')\n",
    "    currentLength = len(minutiaeList)\n",
    "    \n",
    "    if currentLength > targetLength:\n",
    "        return minutiaeList[:targetLength]\n",
    "    else:\n",
    "        return minutiaeList + [dummy_minutiae] * (targetLength - currentLength)\n",
    "\n",
    "def process_images_from_folder(folder_path, csv_filepath, target_minutiae_count, enrollment = True):\n",
    "    headers = ['ID', 'Type', 'LocationX', 'LocationY', 'Orientation']\n",
    "    \n",
    "    with open(csv_filepath, mode='w', newline='') as file:\n",
    "        writer = csv.writer(file)\n",
    "        writer.writerow(headers)\n",
    "        ID = 0\n",
    "        for filename in os.listdir(folder_path):\n",
    "            if filename.endswith(\".tif\"):  # Check for TIFF images, adjust if using other formats\n",
    "                img_path = os.path.join(folder_path, filename)\n",
    "                img = cv2.imread(img_path, 0)\n",
    "                out = fingerprint_enhancer.enhance_Fingerprint(img)\n",
    "                \n",
    "                # Process image to enhance and extract features, replace with your actual method\n",
    "                # out = fingerprint_enhancer.enhance_Fingerprint(img)\n",
    "                if(enrollment==False):\n",
    "                    cv2.imshow('enhanced_image', out);\n",
    "                    cv2.waitKey(0)\n",
    "                    FeaturesTerminations, FeaturesBifurcations = fingerprint_feature_extractor.extract_minutiae_features(\n",
    "                                    out, spuriousMinutiaeThresh=10, invertImage=False, showResult=True, saveResult=True)\n",
    "                else:\n",
    "                    FeaturesTerminations, FeaturesBifurcations = fingerprint_feature_extractor.extract_minutiae_features(\n",
    "                                    out, spuriousMinutiaeThresh=10, invertImage=False, showResult=False, saveResult=True)\n",
    "                \n",
    "                # Ensure a fixed number of minutiae\n",
    "                FeaturesTerminations = pad_or_truncate_minutiae_list(FeaturesTerminations, target_minutiae_count//2)\n",
    "                FeaturesBifurcations = pad_or_truncate_minutiae_list(FeaturesBifurcations, target_minutiae_count//2)\n",
    "\n",
    "                # Write termination features\n",
    "                for feature in FeaturesTerminations:\n",
    "                    writer.writerow([ID, 0, feature.locX, feature.locY, feature.Orientation])\n",
    "                \n",
    "                # Write bifurcation features\n",
    "                for feature in FeaturesBifurcations:\n",
    "                    writer.writerow([ID, 1, feature.locX, feature.locY, feature.Orientation])\n",
    "            ID+=1"
   ]
  },
  {
   "cell_type": "markdown",
   "metadata": {},
   "source": [
    "#### Write .csv from fingerprint data"
   ]
  },
  {
   "cell_type": "code",
   "execution_count": null,
   "metadata": {},
   "outputs": [],
   "source": [
    "\n",
    "folder_path = r\"C:\\Users\\quinn\\Desktop\\CryptoProj\\SampleSet\"\n",
    "csv_filepath = r\"C:\\Users\\quinn\\Desktop\\CryptoProj\\fingerprint_test.csv\"\n",
    "target_minutiae_count = 200\n",
    "\n",
    "process_images_from_folder(folder_path, csv_filepath, target_minutiae_count)\n",
    "#For single image \"verification phase\" set 'enrollment=False' to show enhanced image and minutiae results\n"
   ]
  },
  {
   "cell_type": "markdown",
   "metadata": {},
   "source": [
    "The following code blocks contain features implemented in the above methods"
   ]
  },
  {
   "cell_type": "code",
   "execution_count": 3,
   "metadata": {},
   "outputs": [
    {
     "data": {
      "text/plain": [
       "-1"
      ]
     },
     "execution_count": 3,
     "metadata": {},
     "output_type": "execute_result"
    }
   ],
   "source": [
    "\"\"\"\n",
    "img = cv2.imread(r\"C:\\Users\\quinn\\Downloads\\CrossMatch_Sample_DB\\012_4_2.tif\", 0)\n",
    "out = fingerprint_enhancer.enhance_Fingerprint(img)\n",
    "cv2.imshow('enhanced_image', out);\n",
    "cv2.waitKey(0)\n",
    "# You have to exit the pop up box to get the code block to finish\n",
    "\n",
    "FeaturesTerminations, FeaturesBifurcations = fingerprint_feature_extractor.extract_minutiae_features(\n",
    "            out, spuriousMinutiaeThresh=10, invertImage=False, showResult=True, saveResult=True)\n",
    "# Exit the pop up\n",
    "\n",
    "x=0\n",
    "y=0\n",
    "for i in FeaturesTerminations:\n",
    "    i.Orientation = i.Orientation + [0,0]\n",
    "    print(i.Orientation)\n",
    "    x+=1\n",
    "for i in FeaturesBifurcations:\n",
    "    #i.Orientation = i.Orientation + [0,0]\n",
    "    print(i.Orientation)\n",
    "    y+=1\n",
    "print(\"Terminations Length = \", x)\n",
    "print(\"Bifurcations Length = \", y)\n",
    "\"\"\""
   ]
  }
 ],
 "metadata": {
  "kernelspec": {
   "display_name": "Python 3",
   "language": "python",
   "name": "python3"
  },
  "language_info": {
   "codemirror_mode": {
    "name": "ipython",
    "version": 3
   },
   "file_extension": ".py",
   "mimetype": "text/x-python",
   "name": "python",
   "nbconvert_exporter": "python",
   "pygments_lexer": "ipython3",
   "version": "3.8.18"
  }
 },
 "nbformat": 4,
 "nbformat_minor": 2
}
